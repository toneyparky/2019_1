{
 "cells": [
  {
   "cell_type": "markdown",
   "metadata": {},
   "source": [
    "## main cell"
   ]
  },
  {
   "cell_type": "code",
   "execution_count": 14,
   "metadata": {
    "scrolled": false
   },
   "outputs": [
    {
     "name": "stdout",
     "output_type": "stream",
     "text": [
      "\n",
      "\n",
      "----\n",
      "quick_sort_stdnum \n",
      "\n",
      "[190413] 11:19:11\n",
      "[190413] 11:19:12\n",
      "소요시간 : 0.8919초\n",
      "\n",
      "\n",
      "----\n",
      "quick_sort_iter_stdnum \n",
      "\n",
      "[190413] 11:19:12\n",
      "[190413] 11:19:12\n",
      "소요시간 : 0.4101초\n"
     ]
    }
   ],
   "source": [
    "import random\n",
    "import string\n",
    "import sys \n",
    "import time\n",
    "\n",
    "total_start = time.time()                  \n",
    "total_start_time = time.strftime(\"[%y%m%d] %X\", time.localtime())\n",
    "lim_num = 50001\n",
    "year = [13, 14, 15, 16, 17, 18, 19]\n",
    "myList = [[] for i in range(lim_num)]\n",
    "\n",
    "for i in range(lim_num):\n",
    "    myList[i].append(int(i))\n",
    "    myList[i].append(str(random.choice(year)) + ''.join(random.choice(string.digits) for _ in range(7)))\n",
    "    myList[i].append(''.join(random.choice(string.ascii_lowercase) for _ in range(10)))\n",
    "    myList[i].append(\"010\" + ''.join(random.choice(string.digits) for _ in range(8)))        \n",
    "\n",
    "#print(\"==raw_data==\")\n",
    "#for i in range(lim_num):\n",
    "#    print(myList[i])\n",
    "\n",
    "\n",
    "copy_list = myList[:] #save for keep the original data\n",
    "\n",
    "print(\"\\n\")\n",
    "print(\"----\")\n",
    "print(\"quick_sort_stdnum \\n\")\n",
    "start_time = time.time()\n",
    "print(time.strftime(\"[%y%m%d] %X\", time.localtime()))\n",
    "quick_sort_stdnum(myList)\n",
    "end_time = time.time()\n",
    "print(time.strftime(\"[%y%m%d] %X\", time.localtime()))\n",
    "print(\"소요시간 : %s초\" %round(end_time - start_time, 4))\n",
    "\n",
    "#for i in range(0, lim_num, 500):\n",
    "#    print(quick_sort_stdnum(myList)[i])\n",
    "\n",
    "\n",
    "myList = copy_list[:] #rewind the original data\n",
    "print(\"\\n\")\n",
    "print(\"----\")\n",
    "print(\"quick_sort_iter_stdnum \\n\")\n",
    "start_time = time.time()\n",
    "print(time.strftime(\"[%y%m%d] %X\", time.localtime()))\n",
    "quick_sort_iter_stdnum(myList, 0, lim_num - 1) #(lim_num - 1) is high\n",
    "end_time = time.time()\n",
    "print(time.strftime(\"[%y%m%d] %X\", time.localtime()))\n",
    "print(\"소요시간 : %s초\" %round(end_time - start_time, 4))\n",
    "\n",
    "#for i in range(0, lim_num, 500):\n",
    "#    print(myList[i])\n",
    "\n"
   ]
  },
  {
   "cell_type": "markdown",
   "metadata": {},
   "source": [
    "## quicksort by student number"
   ]
  },
  {
   "cell_type": "code",
   "execution_count": 1,
   "metadata": {},
   "outputs": [],
   "source": [
    "def quick_sort_stdnum(input_array):\n",
    "    input_array_length = len(input_array)\n",
    "    big_array = []\n",
    "    small_array = []\n",
    "    if( input_array_length <= 1):\n",
    "        return input_array\n",
    "    else:\n",
    "        pivot = int(input_array[0][1])\n",
    "        for index, array in enumerate(input_array):\n",
    "            if index == 0:\n",
    "                pass\n",
    "            elif int(array[1]) > pivot:\n",
    "                big_array.append(array)\n",
    "            elif int(array[1]) <= pivot:\n",
    "                small_array.append(array)\n",
    "        \n",
    "        '''print(\"small_array: \", small_array)\n",
    "        print(\"pivot: \", pivot)\n",
    "        print(\"big_array: \", big_array)'''\n",
    "        return quick_sort_stdnum(small_array) + [input_array[0]] + quick_sort_stdnum(big_array)"
   ]
  },
  {
   "cell_type": "markdown",
   "metadata": {},
   "source": [
    "## quicksort by student number - iterative version"
   ]
  },
  {
   "cell_type": "code",
   "execution_count": 2,
   "metadata": {},
   "outputs": [],
   "source": [
    "#quick_sort by iterative, input_arr[], low  --> Starting index, high  --> Ending index \n",
    "def quick_sort_iter_stdnum(input_arr, low, high): \n",
    "    #create a stack, not gonna use specific stack class or method at this time\n",
    "    size = high - low + 1\n",
    "    stack = [0] * (size) \n",
    "    \n",
    "    #stack top\n",
    "    top = -1\n",
    "  \n",
    "    #push first values of low and high to stack (index)\n",
    "    top = top + 1\n",
    "    stack[top] = low \n",
    "    top = top + 1\n",
    "    stack[top] = high \n",
    "  \n",
    "    #keep popping from stack while stack is not empty (top < 0)\n",
    "    while top >= 0: \n",
    "  \n",
    "        #pop high and low \n",
    "        high = stack[top] \n",
    "        top = top - 1\n",
    "        low = stack[top] \n",
    "        top = top - 1\n",
    "  \n",
    "        #set pivot element at its correct position in sorted input_array (pivot is index)\n",
    "        pivot = partition(input_arr, low, high ) \n",
    "  \n",
    "        #if there are elements on left side of pivot, then push left side to stack  \n",
    "        #all index stack[0] = low index of small part, stack[1] = high index of small part\n",
    "        if pivot - 1 > low: \n",
    "            top = top + 1\n",
    "            stack[top] = low \n",
    "            top = top + 1\n",
    "            stack[top] = pivot - 1\n",
    "\n",
    "        #if there are elements on right side of pivot, then push right side to stack\n",
    "        #all index stack[2] = low index of big part, stack[1] = high index of big part\n",
    "        if pivot + 1 < high: \n",
    "            top = top + 1\n",
    "            stack[top] = pivot + 1\n",
    "            top = top + 1\n",
    "            stack[top] = high \n",
    "            #print(\"stack2:\", stack)\n",
    "  \n"
   ]
  },
  {
   "cell_type": "code",
   "execution_count": 4,
   "metadata": {},
   "outputs": [],
   "source": [
    "def partition(input_arr, low, high): \n",
    "    i = ( low - 1 ) \n",
    "    val = input_arr[high][1]   \n",
    "  \n",
    "    for j in range(low, high): \n",
    "        #print(\"val\", val)\n",
    "        if input_arr[j][1] <= val: \n",
    "  \n",
    "            # +=1 index of smaller element \n",
    "            i = i + 1\n",
    "            #swap\n",
    "            temp_arr = input_arr[i]\n",
    "            input_arr[i] = input_arr[j]\n",
    "            input_arr[j] = temp_arr\n",
    "            \n",
    "    temp_arr = input_arr[i+1]\n",
    "    input_arr[i+1] = input_arr[high]\n",
    "    input_arr[high] = temp_arr\n",
    "    return (i + 1) \n",
    "  "
   ]
  }
 ],
 "metadata": {
  "kernelspec": {
   "display_name": "Python 3",
   "language": "python",
   "name": "python3"
  },
  "language_info": {
   "codemirror_mode": {
    "name": "ipython",
    "version": 3
   },
   "file_extension": ".py",
   "mimetype": "text/x-python",
   "name": "python",
   "nbconvert_exporter": "python",
   "pygments_lexer": "ipython3",
   "version": "3.7.2"
  }
 },
 "nbformat": 4,
 "nbformat_minor": 2
}
