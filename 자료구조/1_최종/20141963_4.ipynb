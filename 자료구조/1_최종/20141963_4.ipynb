{
 "cells": [
  {
   "cell_type": "markdown",
   "metadata": {},
   "source": [
    "# Input queue\n",
    "----------------------------------------------------------------------------\n",
    "\n",
    "\n",
    "## 사용법\n",
    "\n",
    "키보드로부터 문자를 입력 받아 사용자가 원하면 그 개수만큼 빼서 사용자에게 돌려주는 표준입력 큐를 만들고 동작을 표시하는 프로그램\n",
    "입력 큐는 20 글자 크기를 갖는다. 입력 큐의 범위를 초과하면 받아들일 수 없다(에러 표시).\n",
    "\n",
    "----------------------------------------------------------------------------\n",
    "\n",
    "\n",
    "## 필요한 것\n",
    "\n",
    "클래스 : myQueue (안에 addQ메서드와 delQ메서드 sizeQ메서드가 있음\n",
    "\n",
    "메서드 : addQ메서드와 delQ메서드 sizeQ메서드\n",
    "\n",
    "변수 : main 안에있는 queue, user로 부터 input 받는 word\n",
    "\n",
    "----------------------------------------------------------------------------\n",
    "\n",
    "## Flow\n",
    "\n",
    "1. main을 실행하면 queue를 생성하고 while문이 계속 돈다 #(탈출 조건\" : no를 입력\"을 만들었었지만 과제에는 없기에 주석처리)\n",
    "\n",
    "2. user로 부터 input을 받아 word에 저장한다.\n",
    "\n",
    "3-1. word가 숫자면 delQ메서드를 실행한다.\n",
    "        이 때 파라미터로 word값을 전달한다.\n",
    "\n",
    "3-2. word가 string이면 addQ메서드를 실행한다.\n",
    "        이 때 파라미터로 word값을 전달한다.\n",
    "        \n",
    "4-1. delQ메서드에서는 입력받은 word(int)의 크기만큼 for문을 돌며 queue에 들어있는 값을 출력한다.- delQ() (비어있으면 오류 출력)\n",
    "\n",
    "4-2. addQ메서드에서는 입력받은 word(str)를 하나씩 읽으며 for문을 돌며 queue에 넣는다 - addQ(char) (꽉 차있으면 오류 출력)\n",
    "\n",
    "5. 각각의 메서드에서는 print를 이용하여 실행 예)와 동일한 문장들을 출력한다."
   ]
  },
  {
   "cell_type": "code",
   "execution_count": 5,
   "metadata": {
    "scrolled": false
   },
   "outputs": [
    {
     "name": "stdout",
     "output_type": "stream",
     "text": [
      "HELLOWORLD\n",
      "ADDQUEUE( H )  Queue Size=  1 /20\n",
      "ADDQUEUE( E )  Queue Size=  2 /20\n",
      "ADDQUEUE( L )  Queue Size=  3 /20\n",
      "ADDQUEUE( L )  Queue Size=  4 /20\n",
      "ADDQUEUE( O )  Queue Size=  5 /20\n",
      "ADDQUEUE( W )  Queue Size=  6 /20\n",
      "ADDQUEUE( O )  Queue Size=  7 /20\n",
      "ADDQUEUE( R )  Queue Size=  8 /20\n",
      "ADDQUEUE( L )  Queue Size=  9 /20\n",
      "ADDQUEUE( D )  Queue Size=  10 /20\n",
      "3\n",
      "DELETEQUEUE() =  H , Queue Size= 9 /20\n",
      "DELETEQUEUE() =  E , Queue Size= 8 /20\n",
      "DELETEQUEUE() =  L , Queue Size= 7 /20\n",
      "GOODMORNING\n",
      "ADDQUEUE( G )  Queue Size=  8 /20\n",
      "ADDQUEUE( O )  Queue Size=  9 /20\n",
      "ADDQUEUE( O )  Queue Size=  10 /20\n",
      "ADDQUEUE( D )  Queue Size=  11 /20\n",
      "ADDQUEUE( M )  Queue Size=  12 /20\n",
      "ADDQUEUE( O )  Queue Size=  13 /20\n",
      "ADDQUEUE( R )  Queue Size=  14 /20\n",
      "ADDQUEUE( N )  Queue Size=  15 /20\n",
      "ADDQUEUE( I )  Queue Size=  16 /20\n",
      "ADDQUEUE( N )  Queue Size=  17 /20\n",
      "ADDQUEUE( G )  Queue Size=  18 /20\n",
      "PYTH\n",
      "ADDQUEUE( P )  Queue Size=  19 /20\n",
      "ADDQUEUE( Y )  Queue Size=  20 /20\n",
      "ADDQUEUE( T ) Fail : Queue Full  Queue Size= 20 /20\n",
      "ADDQUEUE( H ) Fail : Queue Full  Queue Size= 20 /20\n",
      "2\n",
      "DELETEQUEUE() =  L , Queue Size= 19 /20\n",
      "DELETEQUEUE() =  O , Queue Size= 18 /20\n"
     ]
    },
    {
     "ename": "KeyboardInterrupt",
     "evalue": "",
     "output_type": "error",
     "traceback": [
      "\u001b[0;31m---------------------------------------------------------------------------\u001b[0m",
      "\u001b[0;31mKeyboardInterrupt\u001b[0m                         Traceback (most recent call last)",
      "\u001b[0;32m/usr/local/Cellar/ipython/7.4.0/libexec/vendor/lib/python3.7/site-packages/ipykernel/kernelbase.py\u001b[0m in \u001b[0;36m_input_request\u001b[0;34m(self, prompt, ident, parent, password)\u001b[0m\n\u001b[1;32m    877\u001b[0m             \u001b[0;32mtry\u001b[0m\u001b[0;34m:\u001b[0m\u001b[0;34m\u001b[0m\u001b[0;34m\u001b[0m\u001b[0m\n\u001b[0;32m--> 878\u001b[0;31m                 \u001b[0mident\u001b[0m\u001b[0;34m,\u001b[0m \u001b[0mreply\u001b[0m \u001b[0;34m=\u001b[0m \u001b[0mself\u001b[0m\u001b[0;34m.\u001b[0m\u001b[0msession\u001b[0m\u001b[0;34m.\u001b[0m\u001b[0mrecv\u001b[0m\u001b[0;34m(\u001b[0m\u001b[0mself\u001b[0m\u001b[0;34m.\u001b[0m\u001b[0mstdin_socket\u001b[0m\u001b[0;34m,\u001b[0m \u001b[0;36m0\u001b[0m\u001b[0;34m)\u001b[0m\u001b[0;34m\u001b[0m\u001b[0;34m\u001b[0m\u001b[0m\n\u001b[0m\u001b[1;32m    879\u001b[0m             \u001b[0;32mexcept\u001b[0m \u001b[0mException\u001b[0m\u001b[0;34m:\u001b[0m\u001b[0;34m\u001b[0m\u001b[0;34m\u001b[0m\u001b[0m\n",
      "\u001b[0;32m/usr/local/Cellar/ipython/7.4.0/libexec/vendor/lib/python3.7/site-packages/jupyter_client/session.py\u001b[0m in \u001b[0;36mrecv\u001b[0;34m(self, socket, mode, content, copy)\u001b[0m\n\u001b[1;32m    802\u001b[0m         \u001b[0;32mtry\u001b[0m\u001b[0;34m:\u001b[0m\u001b[0;34m\u001b[0m\u001b[0;34m\u001b[0m\u001b[0m\n\u001b[0;32m--> 803\u001b[0;31m             \u001b[0mmsg_list\u001b[0m \u001b[0;34m=\u001b[0m \u001b[0msocket\u001b[0m\u001b[0;34m.\u001b[0m\u001b[0mrecv_multipart\u001b[0m\u001b[0;34m(\u001b[0m\u001b[0mmode\u001b[0m\u001b[0;34m,\u001b[0m \u001b[0mcopy\u001b[0m\u001b[0;34m=\u001b[0m\u001b[0mcopy\u001b[0m\u001b[0;34m)\u001b[0m\u001b[0;34m\u001b[0m\u001b[0;34m\u001b[0m\u001b[0m\n\u001b[0m\u001b[1;32m    804\u001b[0m         \u001b[0;32mexcept\u001b[0m \u001b[0mzmq\u001b[0m\u001b[0;34m.\u001b[0m\u001b[0mZMQError\u001b[0m \u001b[0;32mas\u001b[0m \u001b[0me\u001b[0m\u001b[0;34m:\u001b[0m\u001b[0;34m\u001b[0m\u001b[0;34m\u001b[0m\u001b[0m\n",
      "\u001b[0;32m/usr/local/Cellar/ipython/7.4.0/libexec/vendor/lib/python3.7/site-packages/zmq/sugar/socket.py\u001b[0m in \u001b[0;36mrecv_multipart\u001b[0;34m(self, flags, copy, track)\u001b[0m\n\u001b[1;32m    469\u001b[0m         \"\"\"\n\u001b[0;32m--> 470\u001b[0;31m         \u001b[0mparts\u001b[0m \u001b[0;34m=\u001b[0m \u001b[0;34m[\u001b[0m\u001b[0mself\u001b[0m\u001b[0;34m.\u001b[0m\u001b[0mrecv\u001b[0m\u001b[0;34m(\u001b[0m\u001b[0mflags\u001b[0m\u001b[0;34m,\u001b[0m \u001b[0mcopy\u001b[0m\u001b[0;34m=\u001b[0m\u001b[0mcopy\u001b[0m\u001b[0;34m,\u001b[0m \u001b[0mtrack\u001b[0m\u001b[0;34m=\u001b[0m\u001b[0mtrack\u001b[0m\u001b[0;34m)\u001b[0m\u001b[0;34m]\u001b[0m\u001b[0;34m\u001b[0m\u001b[0;34m\u001b[0m\u001b[0m\n\u001b[0m\u001b[1;32m    471\u001b[0m         \u001b[0;31m# have first part already, only loop while more to receive\u001b[0m\u001b[0;34m\u001b[0m\u001b[0;34m\u001b[0m\u001b[0;34m\u001b[0m\u001b[0m\n",
      "\u001b[0;32mzmq/backend/cython/socket.pyx\u001b[0m in \u001b[0;36mzmq.backend.cython.socket.Socket.recv\u001b[0;34m()\u001b[0m\n",
      "\u001b[0;32mzmq/backend/cython/socket.pyx\u001b[0m in \u001b[0;36mzmq.backend.cython.socket.Socket.recv\u001b[0;34m()\u001b[0m\n",
      "\u001b[0;32mzmq/backend/cython/socket.pyx\u001b[0m in \u001b[0;36mzmq.backend.cython.socket._recv_copy\u001b[0;34m()\u001b[0m\n",
      "\u001b[0;32m/usr/local/Cellar/ipython/7.4.0/libexec/vendor/lib/python3.7/site-packages/zmq/backend/cython/checkrc.pxd\u001b[0m in \u001b[0;36mzmq.backend.cython.checkrc._check_rc\u001b[0;34m()\u001b[0m\n",
      "\u001b[0;31mKeyboardInterrupt\u001b[0m: ",
      "\nDuring handling of the above exception, another exception occurred:\n",
      "\u001b[0;31mKeyboardInterrupt\u001b[0m                         Traceback (most recent call last)",
      "\u001b[0;32m<ipython-input-5-263240bbee7e>\u001b[0m in \u001b[0;36m<module>\u001b[0;34m\u001b[0m\n\u001b[0;32m----> 1\u001b[0;31m \u001b[0mmain\u001b[0m\u001b[0;34m(\u001b[0m\u001b[0;34m)\u001b[0m\u001b[0;34m\u001b[0m\u001b[0;34m\u001b[0m\u001b[0m\n\u001b[0m",
      "\u001b[0;32m<ipython-input-1-0c40f88d403e>\u001b[0m in \u001b[0;36mmain\u001b[0;34m()\u001b[0m\n\u001b[1;32m      4\u001b[0m     \u001b[0;31m#print(\"no를 입력하면 탈출\") #탈출관련\u001b[0m\u001b[0;34m\u001b[0m\u001b[0;34m\u001b[0m\u001b[0;34m\u001b[0m\u001b[0m\n\u001b[1;32m      5\u001b[0m     \u001b[0;32mwhile\u001b[0m \u001b[0;32mTrue\u001b[0m\u001b[0;34m:\u001b[0m\u001b[0;34m\u001b[0m\u001b[0;34m\u001b[0m\u001b[0m\n\u001b[0;32m----> 6\u001b[0;31m         \u001b[0mword\u001b[0m \u001b[0;34m=\u001b[0m \u001b[0minput\u001b[0m\u001b[0;34m(\u001b[0m\u001b[0;34m)\u001b[0m\u001b[0;34m\u001b[0m\u001b[0;34m\u001b[0m\u001b[0m\n\u001b[0m\u001b[1;32m      7\u001b[0m         \u001b[0;31m#input이 숫자라면\u001b[0m\u001b[0;34m\u001b[0m\u001b[0;34m\u001b[0m\u001b[0;34m\u001b[0m\u001b[0m\n\u001b[1;32m      8\u001b[0m         \u001b[0;32mif\u001b[0m\u001b[0;34m(\u001b[0m\u001b[0mword\u001b[0m\u001b[0;34m.\u001b[0m\u001b[0misdigit\u001b[0m\u001b[0;34m(\u001b[0m\u001b[0;34m)\u001b[0m\u001b[0;34m)\u001b[0m\u001b[0;34m:\u001b[0m\u001b[0;34m\u001b[0m\u001b[0;34m\u001b[0m\u001b[0m\n",
      "\u001b[0;32m/usr/local/Cellar/ipython/7.4.0/libexec/vendor/lib/python3.7/site-packages/ipykernel/kernelbase.py\u001b[0m in \u001b[0;36mraw_input\u001b[0;34m(self, prompt)\u001b[0m\n\u001b[1;32m    851\u001b[0m             \u001b[0mself\u001b[0m\u001b[0;34m.\u001b[0m\u001b[0m_parent_ident\u001b[0m\u001b[0;34m,\u001b[0m\u001b[0;34m\u001b[0m\u001b[0;34m\u001b[0m\u001b[0m\n\u001b[1;32m    852\u001b[0m             \u001b[0mself\u001b[0m\u001b[0;34m.\u001b[0m\u001b[0m_parent_header\u001b[0m\u001b[0;34m,\u001b[0m\u001b[0;34m\u001b[0m\u001b[0;34m\u001b[0m\u001b[0m\n\u001b[0;32m--> 853\u001b[0;31m             \u001b[0mpassword\u001b[0m\u001b[0;34m=\u001b[0m\u001b[0;32mFalse\u001b[0m\u001b[0;34m,\u001b[0m\u001b[0;34m\u001b[0m\u001b[0;34m\u001b[0m\u001b[0m\n\u001b[0m\u001b[1;32m    854\u001b[0m         )\n\u001b[1;32m    855\u001b[0m \u001b[0;34m\u001b[0m\u001b[0m\n",
      "\u001b[0;32m/usr/local/Cellar/ipython/7.4.0/libexec/vendor/lib/python3.7/site-packages/ipykernel/kernelbase.py\u001b[0m in \u001b[0;36m_input_request\u001b[0;34m(self, prompt, ident, parent, password)\u001b[0m\n\u001b[1;32m    881\u001b[0m             \u001b[0;32mexcept\u001b[0m \u001b[0mKeyboardInterrupt\u001b[0m\u001b[0;34m:\u001b[0m\u001b[0;34m\u001b[0m\u001b[0;34m\u001b[0m\u001b[0m\n\u001b[1;32m    882\u001b[0m                 \u001b[0;31m# re-raise KeyboardInterrupt, to truncate traceback\u001b[0m\u001b[0;34m\u001b[0m\u001b[0;34m\u001b[0m\u001b[0;34m\u001b[0m\u001b[0m\n\u001b[0;32m--> 883\u001b[0;31m                 \u001b[0;32mraise\u001b[0m \u001b[0mKeyboardInterrupt\u001b[0m\u001b[0;34m\u001b[0m\u001b[0;34m\u001b[0m\u001b[0m\n\u001b[0m\u001b[1;32m    884\u001b[0m             \u001b[0;32melse\u001b[0m\u001b[0;34m:\u001b[0m\u001b[0;34m\u001b[0m\u001b[0;34m\u001b[0m\u001b[0m\n\u001b[1;32m    885\u001b[0m                 \u001b[0;32mbreak\u001b[0m\u001b[0;34m\u001b[0m\u001b[0;34m\u001b[0m\u001b[0m\n",
      "\u001b[0;31mKeyboardInterrupt\u001b[0m: "
     ]
    }
   ],
   "source": [
    "main()"
   ]
  },
  {
   "cell_type": "code",
   "execution_count": 1,
   "metadata": {},
   "outputs": [],
   "source": [
    "#중지하면 keyboardInterrupt가 나는데 그래서 탈출관련 코드를 작성하였으나 과제에는 없기에 우선 빼두었습니다.\n",
    "def main():\n",
    "    queue = myQueue()\n",
    "    #print(\"no를 입력하면 탈출\") #탈출관련\n",
    "    while True:\n",
    "        word = input()\n",
    "        #input이 숫자라면\n",
    "        if(word.isdigit()):\n",
    "            #word의 크기만큼 for문을 돌린다. + delQ()메서드 실행\n",
    "            for i in range(0, int(word)):\n",
    "                queue.delQ()\n",
    "            \n",
    "        #elif(word == \"no\"): #탈출관련\n",
    "        #    break\n",
    "        #input이 string이라면 addQueue메서드 실행\n",
    "        else:\n",
    "            for index, char in enumerate(word):\n",
    "                queue.addQ(char)\n",
    "            \n",
    "            \n",
    "            \n",
    "            "
   ]
  },
  {
   "cell_type": "markdown",
   "metadata": {},
   "source": [
    "# Set MyQueue Class : \n",
    "## method : addQ, deleteQ"
   ]
  },
  {
   "cell_type": "code",
   "execution_count": 2,
   "metadata": {},
   "outputs": [],
   "source": [
    "#code cell for queue\n",
    "class myQueue:\n",
    "    def __init__(self):\n",
    "        self.queue = list()\n",
    "        self.head = 0\n",
    "        self.tail = 0\n",
    "        self.max = 21\n",
    "    #add data to queue\n",
    "    def addQ(self, data):\n",
    "        if self.sizeQ() == self.max - 1:\n",
    "            print(\"ADDQUEUE(\" , data, \") Fail : Queue Full  Queue Size= 20 /20\")\n",
    "        else:\n",
    "            self.queue.append(data)\n",
    "            self.tail = (self.tail + 1) % self.max\n",
    "            print(\"ADDQUEUE(\" ,data , \")  Queue Size= \", self.sizeQ(), \"/20\")\n",
    "\n",
    "    #delete data from the queue\n",
    "    def delQ(self):\n",
    "        if self.sizeQ() == 0:\n",
    "            print(\"DELETEQUEUE() Fail, Queue Empty Queue Size= 0 /20\")\n",
    "        else:    \n",
    "            data = self.queue[self.head]\n",
    "            self.head = (self.head + 1) % self.max\n",
    "            print(\"DELETEQUEUE() = \" , data, \", Queue Size=\" , self.sizeQ(), \"/20\")\n",
    "            #return data\n",
    "\n",
    "    #get the size of the queue\n",
    "    def sizeQ(self):\n",
    "        if self.tail >= self.head:\n",
    "            return (self.tail - self.head)\n",
    "        return (self.max - (self.head - self.tail))"
   ]
  }
 ],
 "metadata": {
  "kernelspec": {
   "display_name": "Python 3",
   "language": "python",
   "name": "python3"
  },
  "language_info": {
   "codemirror_mode": {
    "name": "ipython",
    "version": 3
   },
   "file_extension": ".py",
   "mimetype": "text/x-python",
   "name": "python",
   "nbconvert_exporter": "python",
   "pygments_lexer": "ipython3",
   "version": "3.7.2"
  }
 },
 "nbformat": 4,
 "nbformat_minor": 2
}
